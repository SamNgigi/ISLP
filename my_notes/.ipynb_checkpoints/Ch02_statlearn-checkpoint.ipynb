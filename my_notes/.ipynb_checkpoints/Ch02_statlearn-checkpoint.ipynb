{
 "cells": [
  {
   "cell_type": "markdown",
   "id": "061fb471-7cdf-47c2-bf8e-80d52cbbedb0",
   "metadata": {},
   "source": [
    "# Statistical Learning"
   ]
  },
  {
   "cell_type": "code",
   "execution_count": null,
   "id": "08a79d4d-8751-41c5-9d20-1a31865cfaf5",
   "metadata": {},
   "outputs": [],
   "source": []
  }
 ],
 "metadata": {
  "kernelspec": {
   "display_name": "Python 3.13.1 (ds_practice)",
   "language": "python",
   "name": "ds_practice"
  },
  "language_info": {
   "codemirror_mode": {
    "name": "ipython",
    "version": 3
   },
   "file_extension": ".py",
   "mimetype": "text/x-python",
   "name": "python",
   "nbconvert_exporter": "python",
   "pygments_lexer": "ipython3",
   "version": "3.13.1"
  },
  "widgets": {
   "application/vnd.jupyter.widget-state+json": {
    "state": {},
    "version_major": 2,
    "version_minor": 0
   }
  }
 },
 "nbformat": 4,
 "nbformat_minor": 5
}
