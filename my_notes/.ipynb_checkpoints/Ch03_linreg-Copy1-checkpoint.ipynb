{
 "cells": [
  {
   "cell_type": "markdown",
   "id": "09be6b31-0b0d-4072-9ed9-0645544e1239",
   "metadata": {},
   "source": [
    "# Linear Regression"
   ]
  },
  {
   "cell_type": "code",
   "execution_count": 2,
   "id": "eb5afac1-73d4-492d-b6bc-043f52f667af",
   "metadata": {},
   "outputs": [],
   "source": [
    "# Standard libraries\n",
    "import numpy as np\n",
    "import pandas as pd\n",
    "import matplotlib.pyplot as plt\n",
    "from matplotlib.pyplot import subplots"
   ]
  },
  {
   "cell_type": "markdown",
   "id": "1c300655-c158-490b-b8f4-3a1f8647e659",
   "metadata": {},
   "source": [
    "## Simple Linear Regression"
   ]
  },
  {
   "cell_type": "markdown",
   "id": "f9ba25cf-34b8-4776-b629-ab188d0ffcf5",
   "metadata": {},
   "source": [
    "Mathematically\n",
    "\n",
    "$$Y \\approx \\beta_0 + \\beta_1X + \\epsilon$$\n",
    "\n",
    "$Y$ - is the quantitative response/prediction (What we want to predict)\n",
    "\n",
    "$X$ - single predictor variable.\n",
    "\n",
    "We assume that there is **approximately** a linear relationship between $X$ and $Y$.\n",
    "\n",
    "Where we sometimes say *we are regressing $Y$ on $X$ (or $Y$ onto $X$).\n",
    "\n",
    "\n",
    "For example for the Advertising data $X$ may represent `TV` advertising and $Y$ represent `sales`, then we regress `sales` onto `TV` by fitting the model\n",
    "\n",
    "$$sales \\approx \\beta_0 + \\beta_1TV$$"
   ]
  },
  {
   "cell_type": "code",
   "execution_count": 16,
   "id": "aa2da2ed-868f-4bd4-ac57-6a3074c2258b",
   "metadata": {},
   "outputs": [
    {
     "name": "stdout",
     "output_type": "stream",
     "text": [
      "(200, 4)\n"
     ]
    },
    {
     "data": {
      "text/html": [
       "<div>\n",
       "<style scoped>\n",
       "    .dataframe tbody tr th:only-of-type {\n",
       "        vertical-align: middle;\n",
       "    }\n",
       "\n",
       "    .dataframe tbody tr th {\n",
       "        vertical-align: top;\n",
       "    }\n",
       "\n",
       "    .dataframe thead th {\n",
       "        text-align: right;\n",
       "    }\n",
       "</style>\n",
       "<table border=\"1\" class=\"dataframe\">\n",
       "  <thead>\n",
       "    <tr style=\"text-align: right;\">\n",
       "      <th></th>\n",
       "      <th>TV</th>\n",
       "      <th>sales</th>\n",
       "    </tr>\n",
       "  </thead>\n",
       "  <tbody>\n",
       "    <tr>\n",
       "      <th>1</th>\n",
       "      <td>230.1</td>\n",
       "      <td>22.1</td>\n",
       "    </tr>\n",
       "    <tr>\n",
       "      <th>2</th>\n",
       "      <td>44.5</td>\n",
       "      <td>10.4</td>\n",
       "    </tr>\n",
       "    <tr>\n",
       "      <th>3</th>\n",
       "      <td>17.2</td>\n",
       "      <td>9.3</td>\n",
       "    </tr>\n",
       "  </tbody>\n",
       "</table>\n",
       "</div>"
      ],
      "text/plain": [
       "      TV  sales\n",
       "1  230.1   22.1\n",
       "2   44.5   10.4\n",
       "3   17.2    9.3"
      ]
     },
     "execution_count": 16,
     "metadata": {},
     "output_type": "execute_result"
    }
   ],
   "source": [
    "ad_data = pd.read_csv('../data/Advertising.csv', index_col = \"Unnamed: 0\") \n",
    "print(ad_data.shape)\n",
    "ad_data[['TV', 'sales']].head(3)"
   ]
  },
  {
   "cell_type": "markdown",
   "id": "fbd4bec2-fd87-4266-9854-174336cbcbf3",
   "metadata": {},
   "source": [
    "$\\beta_0$ and $\\beta_1$ are 2 unkown constants that represent the *intercept* and *slope* terms of the linear model.\n",
    "\n",
    "Together $\\beta_0$ and $beta_1$ are known as the model **_coefficients/parameters_**.\n",
    "\n",
    "$\\beta_0$ - Y intercept i.e. mean value of Y when X = 0\n",
    "\n",
    "$\\beta_1$ slope of $X$ i.e. how much we expect $Y$ to change as $x$ increases or decreases\n",
    "\n",
    "Once we have used our training data to produce estimates of $\\hat{\\beta_0}$ and $\\hat{\\beta_1}$ for the model coefficients we can predict futre sales on the basis of a particular value of `TV` advertising by computing\n",
    "\n",
    "$$\\hat{y} = \\hat{\\beta_0} + \\hat{\\beta_1}x$$\n",
    "\n",
    "where $\\hat{y}$ indicates a single prediction of $Y$ on the basis of $X=x$\n",
    "\n",
    "**Note** that  $\\space\\hat{}\\space$   is used to denote estimated values for unknown coefficients of predicted value of the response"
   ]
  },
  {
   "cell_type": "markdown",
   "id": "ff146a37-43be-4985-bc63-fba13cfe801b",
   "metadata": {},
   "source": [
    "### Estimating the Coefficients"
   ]
  },
  {
   "cell_type": "markdown",
   "id": "d3597bdc-073d-414a-af7f-2a5625f26a8b",
   "metadata": {},
   "source": [
    "#### Advertising Data Scatter Plot"
   ]
  },
  {
   "cell_type": "code",
   "execution_count": 49,
   "id": "98ac246e-8ab3-4912-9681-18edbfb455de",
   "metadata": {},
   "outputs": [
    {
     "name": "stdout",
     "output_type": "stream",
     "text": [
      "(200, 4)\n"
     ]
    },
    {
     "data": {
      "text/html": [
       "<div>\n",
       "<style scoped>\n",
       "    .dataframe tbody tr th:only-of-type {\n",
       "        vertical-align: middle;\n",
       "    }\n",
       "\n",
       "    .dataframe tbody tr th {\n",
       "        vertical-align: top;\n",
       "    }\n",
       "\n",
       "    .dataframe thead th {\n",
       "        text-align: right;\n",
       "    }\n",
       "</style>\n",
       "<table border=\"1\" class=\"dataframe\">\n",
       "  <thead>\n",
       "    <tr style=\"text-align: right;\">\n",
       "      <th></th>\n",
       "      <th>TV</th>\n",
       "      <th>radio</th>\n",
       "      <th>newspaper</th>\n",
       "      <th>sales</th>\n",
       "    </tr>\n",
       "  </thead>\n",
       "  <tbody>\n",
       "    <tr>\n",
       "      <th>1</th>\n",
       "      <td>230.1</td>\n",
       "      <td>37.8</td>\n",
       "      <td>69.2</td>\n",
       "      <td>22.1</td>\n",
       "    </tr>\n",
       "    <tr>\n",
       "      <th>2</th>\n",
       "      <td>44.5</td>\n",
       "      <td>39.3</td>\n",
       "      <td>45.1</td>\n",
       "      <td>10.4</td>\n",
       "    </tr>\n",
       "    <tr>\n",
       "      <th>3</th>\n",
       "      <td>17.2</td>\n",
       "      <td>45.9</td>\n",
       "      <td>69.3</td>\n",
       "      <td>9.3</td>\n",
       "    </tr>\n",
       "    <tr>\n",
       "      <th>4</th>\n",
       "      <td>151.5</td>\n",
       "      <td>41.3</td>\n",
       "      <td>58.5</td>\n",
       "      <td>18.5</td>\n",
       "    </tr>\n",
       "    <tr>\n",
       "      <th>5</th>\n",
       "      <td>180.8</td>\n",
       "      <td>10.8</td>\n",
       "      <td>58.4</td>\n",
       "      <td>12.9</td>\n",
       "    </tr>\n",
       "  </tbody>\n",
       "</table>\n",
       "</div>"
      ],
      "text/plain": [
       "      TV  radio  newspaper  sales\n",
       "1  230.1   37.8       69.2   22.1\n",
       "2   44.5   39.3       45.1   10.4\n",
       "3   17.2   45.9       69.3    9.3\n",
       "4  151.5   41.3       58.5   18.5\n",
       "5  180.8   10.8       58.4   12.9"
      ]
     },
     "execution_count": 49,
     "metadata": {},
     "output_type": "execute_result"
    }
   ],
   "source": [
    "print(ad_data.shape)\n",
    "ad_data.head()"
   ]
  },
  {
   "cell_type": "code",
   "execution_count": 48,
   "id": "e672a563-0309-4dc2-adef-0f853b4b188a",
   "metadata": {},
   "outputs": [
    {
     "name": "stdout",
     "output_type": "stream",
     "text": [
      "296.4\n"
     ]
    },
    {
     "data": {
      "text/html": [
       "<div>\n",
       "<style scoped>\n",
       "    .dataframe tbody tr th:only-of-type {\n",
       "        vertical-align: middle;\n",
       "    }\n",
       "\n",
       "    .dataframe tbody tr th {\n",
       "        vertical-align: top;\n",
       "    }\n",
       "\n",
       "    .dataframe thead th {\n",
       "        text-align: right;\n",
       "    }\n",
       "</style>\n",
       "<table border=\"1\" class=\"dataframe\">\n",
       "  <thead>\n",
       "    <tr style=\"text-align: right;\">\n",
       "      <th></th>\n",
       "      <th>TV</th>\n",
       "      <th>radio</th>\n",
       "      <th>newspaper</th>\n",
       "      <th>sales</th>\n",
       "    </tr>\n",
       "  </thead>\n",
       "  <tbody>\n",
       "    <tr>\n",
       "      <th>count</th>\n",
       "      <td>200.000000</td>\n",
       "      <td>200.000000</td>\n",
       "      <td>200.000000</td>\n",
       "      <td>200.000000</td>\n",
       "    </tr>\n",
       "    <tr>\n",
       "      <th>mean</th>\n",
       "      <td>147.042500</td>\n",
       "      <td>23.264000</td>\n",
       "      <td>30.554000</td>\n",
       "      <td>14.022500</td>\n",
       "    </tr>\n",
       "    <tr>\n",
       "      <th>std</th>\n",
       "      <td>85.854236</td>\n",
       "      <td>14.846809</td>\n",
       "      <td>21.778621</td>\n",
       "      <td>5.217457</td>\n",
       "    </tr>\n",
       "    <tr>\n",
       "      <th>min</th>\n",
       "      <td>0.700000</td>\n",
       "      <td>0.000000</td>\n",
       "      <td>0.300000</td>\n",
       "      <td>1.600000</td>\n",
       "    </tr>\n",
       "    <tr>\n",
       "      <th>25%</th>\n",
       "      <td>74.375000</td>\n",
       "      <td>9.975000</td>\n",
       "      <td>12.750000</td>\n",
       "      <td>10.375000</td>\n",
       "    </tr>\n",
       "    <tr>\n",
       "      <th>50%</th>\n",
       "      <td>149.750000</td>\n",
       "      <td>22.900000</td>\n",
       "      <td>25.750000</td>\n",
       "      <td>12.900000</td>\n",
       "    </tr>\n",
       "    <tr>\n",
       "      <th>75%</th>\n",
       "      <td>218.825000</td>\n",
       "      <td>36.525000</td>\n",
       "      <td>45.100000</td>\n",
       "      <td>17.400000</td>\n",
       "    </tr>\n",
       "    <tr>\n",
       "      <th>max</th>\n",
       "      <td>296.400000</td>\n",
       "      <td>49.600000</td>\n",
       "      <td>114.000000</td>\n",
       "      <td>27.000000</td>\n",
       "    </tr>\n",
       "  </tbody>\n",
       "</table>\n",
       "</div>"
      ],
      "text/plain": [
       "               TV       radio   newspaper       sales\n",
       "count  200.000000  200.000000  200.000000  200.000000\n",
       "mean   147.042500   23.264000   30.554000   14.022500\n",
       "std     85.854236   14.846809   21.778621    5.217457\n",
       "min      0.700000    0.000000    0.300000    1.600000\n",
       "25%     74.375000    9.975000   12.750000   10.375000\n",
       "50%    149.750000   22.900000   25.750000   12.900000\n",
       "75%    218.825000   36.525000   45.100000   17.400000\n",
       "max    296.400000   49.600000  114.000000   27.000000"
      ]
     },
     "execution_count": 48,
     "metadata": {},
     "output_type": "execute_result"
    }
   ],
   "source": [
    "ad_data.describe()"
   ]
  },
  {
   "cell_type": "code",
   "execution_count": 55,
   "id": "a9ecc711-49e1-45ea-b568-7b8f652d100d",
   "metadata": {},
   "outputs": [
    {
     "data": {
      "image/png": "[encoded data removed]",
      "text/plain": [
       "<Figure size 1200x600 with 3 Axes>"
      ]
     },
     "metadata": {},
     "output_type": "display_data"
    }
   ],
   "source": [
    "# Fit linear regression via least squares with a polynomial degree of 1 (linear fit)\n",
    "# TV regression line\n",
    "Tv_slope, Tv_intercept = np.polyfit(ad_data['TV'], ad_data['sales'], deg=1)\n",
    "Tv_xseq = np.linspace(0, ad_data['TV'].max(), num=ad_data.shape[0])\n",
    "\n",
    "# Radio regression line\n",
    "radio_slope, radio_intercept = np.polyfit(ad_data['radio'], ad_data['sales'], deg=1)\n",
    "radio_xseq = np.linspace(0, ad_data['radio'].max(), num=ad_data.shape[0])\n",
    "\n",
    "# newspaper regression line\n",
    "newspaper_slope, newspaper_intercept = np.polyfit(ad_data['newspaper'], ad_data['sales'], deg=1)\n",
    "newspaper_xseq = np.linspace(0, ad_data['newspaper'].max(), num=ad_data.shape[0])\n",
    "\n",
    "# TV vs Sales with regression line\n",
    "fig, (ax1, ax2, ax3) = plt.subplots(nrows = 1, ncols=3, figsize = (12, 6))\n",
    "ax1.scatter(ad_data['TV'], ad_data['sales'], s=15, c='1', edgecolors='r');\n",
    "ax1.plot(Tv_xseq, Tv_intercept+Tv_slope*Tv_xseq, color='b', lw=2.5);\n",
    "ax1.set(xlabel=\"TV\", ylabel=\"Sales\")\n",
    "\n",
    "# Radio vs Sales with regression line\n",
    "ax2.scatter(ad_data['radio'], ad_data['sales'], s=15, c='1', edgecolors='r');\n",
    "ax2.plot(radio_xseq, radio_intercept+radio_slope*radio_xseq, color='b', lw=2.5);\n",
    "ax2.set(xlabel=\"radio\", ylabel=\"Sales\")\n",
    "\n",
    "# Newspaper vs Sales with regression line\n",
    "ax3.scatter(ad_data['newspaper'], ad_data['sales'], s=15, c='1', edgecolors='r');\n",
    "ax3.plot(newspaper_xseq, newspaper_intercept+newspaper_slope*newspaper_xseq, color='b', lw=2.5);\n",
    "ax3.set(xlabel=\"newspaper\", ylabel=\"Sales\");"
   ]
  },
  {
   "cell_type": "markdown",
   "id": "89b2ff37-3bdc-474f-bda7-04b1684b396e",
   "metadata": {},
   "source": [
    "### Statsmodel"
   ]
  },
  {
   "cell_type": "code",
   "execution_count": 2,
   "id": "a04ab84d-35ab-4764-b09a-c1084eb5519c",
   "metadata": {},
   "outputs": [],
   "source": [
    "from statsmodels.stats.outliers_influence \\\n",
    "    import variance_inflation_factor as VIF\n",
    "from statsmodels.stats.anova import anova_lm"
   ]
  },
  {
   "cell_type": "code",
   "execution_count": null,
   "id": "1307154b-de72-4cb1-9e31-ae7d9690e2ad",
   "metadata": {},
   "outputs": [],
   "source": []
  }
 ],
 "metadata": {
  "kernelspec": {
   "display_name": "Python 3.13.1 (ds_practice)",
   "language": "python",
   "name": "ds_practice"
  },
  "language_info": {
   "codemirror_mode": {
    "name": "ipython",
    "version": 3
   },
   "file_extension": ".py",
   "mimetype": "text/x-python",
   "name": "python",
   "nbconvert_exporter": "python",
   "pygments_lexer": "ipython3",
   "version": "3.13.1"
  },
  "widgets": {
   "application/vnd.jupyter.widget-state+json": {
    "state": {},
    "version_major": 2,
    "version_minor": 0
   }
  }
 },
 "nbformat": 4,
 "nbformat_minor": 5
}
