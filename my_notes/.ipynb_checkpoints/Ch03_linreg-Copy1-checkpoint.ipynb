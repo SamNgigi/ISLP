{
 "cells": [
  {
   "cell_type": "markdown",
   "id": "09be6b31-0b0d-4072-9ed9-0645544e1239",
   "metadata": {},
   "source": [
    "# Linear Regression"
   ]
  },
  {
   "cell_type": "code",
   "execution_count": 2,
   "id": "eb5afac1-73d4-492d-b6bc-043f52f667af",
   "metadata": {},
   "outputs": [],
   "source": [
    "# Standard libraries\n",
    "import numpy as np\n",
    "import pandas as pd\n",
    "import matplotlib.pyplot as plt\n",
    "from matplotlib.pyplot import subplots"
   ]
  },
  {
   "cell_type": "markdown",
   "id": "1c300655-c158-490b-b8f4-3a1f8647e659",
   "metadata": {},
   "source": [
    "## Simple Linear Regression"
   ]
  },
  {
   "cell_type": "markdown",
   "id": "f9ba25cf-34b8-4776-b629-ab188d0ffcf5",
   "metadata": {},
   "source": [
    "Mathematically\n",
    "\n",
    "$$Y \\approx \\beta_0 + \\beta_1X + \\epsilon$$\n",
    "\n",
    "$Y$ - is the quantitative response/prediction (What we want to predict)\n",
    "\n",
    "$X$ - single predictor variable.\n",
    "\n",
    "We assume that there is **approximately** a linear relationship between $X$ and $Y$.\n",
    "\n",
    "Where we sometimes say *we are regressing $Y$ on $X$ (or $Y$ onto $X$).\n",
    "\n",
    "\n",
    "For example for the Advertising data $X$ may represent `TV` advertising and $Y$ represent `sales`, then we regress `sales` onto `TV` by fitting the model\n",
    "\n",
    "$$sales \\approx \\beta_0 + \\beta_1TV$$"
   ]
  },
  {
   "cell_type": "code",
   "execution_count": 3,
   "id": "aa2da2ed-868f-4bd4-ac57-6a3074c2258b",
   "metadata": {},
   "outputs": [
    {
     "name": "stdout",
     "output_type": "stream",
     "text": [
      "(200, 5)\n"
     ]
    },
    {
     "data": {
      "text/html": [
       "<div>\n",
       "<style scoped>\n",
       "    .dataframe tbody tr th:only-of-type {\n",
       "        vertical-align: middle;\n",
       "    }\n",
       "\n",
       "    .dataframe tbody tr th {\n",
       "        vertical-align: top;\n",
       "    }\n",
       "\n",
       "    .dataframe thead th {\n",
       "        text-align: right;\n",
       "    }\n",
       "</style>\n",
       "<table border=\"1\" class=\"dataframe\">\n",
       "  <thead>\n",
       "    <tr style=\"text-align: right;\">\n",
       "      <th></th>\n",
       "      <th>TV</th>\n",
       "      <th>sales</th>\n",
       "    </tr>\n",
       "  </thead>\n",
       "  <tbody>\n",
       "    <tr>\n",
       "      <th>0</th>\n",
       "      <td>230.1</td>\n",
       "      <td>22.1</td>\n",
       "    </tr>\n",
       "    <tr>\n",
       "      <th>1</th>\n",
       "      <td>44.5</td>\n",
       "      <td>10.4</td>\n",
       "    </tr>\n",
       "    <tr>\n",
       "      <th>2</th>\n",
       "      <td>17.2</td>\n",
       "      <td>9.3</td>\n",
       "    </tr>\n",
       "  </tbody>\n",
       "</table>\n",
       "</div>"
      ],
      "text/plain": [
       "      TV  sales\n",
       "0  230.1   22.1\n",
       "1   44.5   10.4\n",
       "2   17.2    9.3"
      ]
     },
     "execution_count": 3,
     "metadata": {},
     "output_type": "execute_result"
    }
   ],
   "source": [
    "ad_data = pd.read_csv('../data/Advertising.csv') \n",
    "print(ad_data.shape)\n",
    "ad_data[['TV', 'sales']].head(3)"
   ]
  },
  {
   "cell_type": "markdown",
   "id": "fbd4bec2-fd87-4266-9854-174336cbcbf3",
   "metadata": {},
   "source": [
    "$\\beta_0$ and $\\beta_1$ are 2 unkown constants that represent the *intercept* and *slope* terms of the linear model.\n",
    "\n",
    "Together $\\beta_0$ and $beta_1$ are known as the model **_coefficients/parameters_**.\n",
    "\n",
    "$\\beta_0$ - Y intercept i.e. mean value of Y when X = 0\n",
    "\n",
    "$\\beta_1$ slope of $X$ i.e. how much we expect $Y$ to change as $x$ increases or decreases\n",
    "\n",
    "Once we have used our training data to produce estimates of $\\hat{\\beta_0}$ and $\\hat{\\beta_1}$ for the model coefficients we can predict futre sales on the basis of a particular value of `TV` advertising by computing\n",
    "\n",
    "$$\\hat{y} = \\hat{\\beta_0} + \\hat{\\beta_1}x$$\n",
    "\n",
    "where $\\hat{y}$ indicates a single prediction of $Y$ on the basis of $X=x$\n",
    "\n",
    "**Note** that  $\\space\\hat{}\\space$   is used to denote estimated values for unknown coefficients of predicted value of the response"
   ]
  },
  {
   "cell_type": "markdown",
   "id": "ff146a37-43be-4985-bc63-fba13cfe801b",
   "metadata": {},
   "source": [
    "### Estimating the Coefficients"
   ]
  },
  {
   "cell_type": "markdown",
   "id": "c0a48cbe-bfec-4bbc-a31a-0b531d9f7a81",
   "metadata": {},
   "source": [
    "#### Sample Scatter Plot with regression line"
   ]
  },
  {
   "cell_type": "code",
   "execution_count": 12,
   "id": "56006c94-1e24-4c7b-9a4e-f2b1e30d9cdb",
   "metadata": {},
   "outputs": [
    {
     "name": "stdout",
     "output_type": "stream",
     "text": [
      "1.05367180842618 -0.20074682388885634\n",
      "[ 0.          0.1010101   0.2020202   0.3030303   0.4040404   0.50505051\n",
      "  0.60606061  0.70707071  0.80808081  0.90909091  1.01010101  1.11111111\n",
      "  1.21212121  1.31313131  1.41414141  1.51515152  1.61616162  1.71717172\n",
      "  1.81818182  1.91919192  2.02020202  2.12121212  2.22222222  2.32323232\n",
      "  2.42424242  2.52525253  2.62626263  2.72727273  2.82828283  2.92929293\n",
      "  3.03030303  3.13131313  3.23232323  3.33333333  3.43434343  3.53535354\n",
      "  3.63636364  3.73737374  3.83838384  3.93939394  4.04040404  4.14141414\n",
      "  4.24242424  4.34343434  4.44444444  4.54545455  4.64646465  4.74747475\n",
      "  4.84848485  4.94949495  5.05050505  5.15151515  5.25252525  5.35353535\n",
      "  5.45454545  5.55555556  5.65656566  5.75757576  5.85858586  5.95959596\n",
      "  6.06060606  6.16161616  6.26262626  6.36363636  6.46464646  6.56565657\n",
      "  6.66666667  6.76767677  6.86868687  6.96969697  7.07070707  7.17171717\n",
      "  7.27272727  7.37373737  7.47474747  7.57575758  7.67676768  7.77777778\n",
      "  7.87878788  7.97979798  8.08080808  8.18181818  8.28282828  8.38383838\n",
      "  8.48484848  8.58585859  8.68686869  8.78787879  8.88888889  8.98989899\n",
      "  9.09090909  9.19191919  9.29292929  9.39393939  9.49494949  9.5959596\n",
      "  9.6969697   9.7979798   9.8989899  10.        ]\n"
     ]
    },
    {
     "data": {
      "image/png": "[encoded data removed]",
      "text/plain": [
       "<Figure size 900x900 with 1 Axes>"
      ]
     },
     "metadata": {},
     "output_type": "display_data"
    }
   ],
   "source": [
    "# Generate sample data\n",
    "rng = np.random.default_rng(1234)\n",
    "# 100 Uniformly distributed floats\n",
    "x = rng.uniform(0, 10, size=100)\n",
    "# Augment x by another normal distributed floats\n",
    "y = x + rng.normal(size = 100)\n",
    "\n",
    "# Initialize layout\n",
    "fig, ax = plt.subplots(figsize=(9, 9))\n",
    "\n",
    "# Add scatterplot\n",
    "# ax.scatter(x, y, s=60, alpha=0.7, edgecolors=\"k\")\n",
    "\n",
    "# Fit linear regression via least squares with\n",
    "# np.polyfit returns a slope (b) and intercept (a)\n",
    "# deg=1 means linear fit (i.e. polynomial of degree 1)\n",
    "b, a = np.polyfit(x, y, deg=1)\n",
    "\n",
    "# Create a sequence of 100 numbers of 0 - 10\n",
    "xseq = np.linspace(0, 10, num=100)\n",
    "\n",
    "print(b, a)\n",
    "print(xseq)\n",
    "\n",
    "# Plot regression\n",
    "# xseq -> x coordinates, a+b*xseq -> y coordinate \n",
    "ax.plot(xseq, a+b*xseq, color=\"k\", lw=2.5);"
   ]
  },
  {
   "cell_type": "code",
   "execution_count": 2,
   "id": "a04ab84d-35ab-4764-b09a-c1084eb5519c",
   "metadata": {},
   "outputs": [],
   "source": [
    "from statsmodels.stats.outliers_influence \\\n",
    "    import variance_inflation_factor as VIF\n",
    "from statsmodels.stats.anova import anova_lm"
   ]
  },
  {
   "cell_type": "code",
   "execution_count": null,
   "id": "1307154b-de72-4cb1-9e31-ae7d9690e2ad",
   "metadata": {},
   "outputs": [],
   "source": []
  }
 ],
 "metadata": {
  "kernelspec": {
   "display_name": "Python 3.13.1 (ds_practice)",
   "language": "python",
   "name": "ds_practice"
  },
  "language_info": {
   "codemirror_mode": {
    "name": "ipython",
    "version": 3
   },
   "file_extension": ".py",
   "mimetype": "text/x-python",
   "name": "python",
   "nbconvert_exporter": "python",
   "pygments_lexer": "ipython3",
   "version": "3.13.1"
  },
  "widgets": {
   "application/vnd.jupyter.widget-state+json": {
    "state": {},
    "version_major": 2,
    "version_minor": 0
   }
  }
 },
 "nbformat": 4,
 "nbformat_minor": 5
}
