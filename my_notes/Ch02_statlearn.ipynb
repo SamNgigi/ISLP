{
 "cells": [
  {
   "cell_type": "markdown",
   "id": "061fb471-7cdf-47c2-bf8e-80d52cbbedb0",
   "metadata": {},
   "source": [
    "# Statistical Learning"
   ]
  },
  {
   "cell_type": "markdown",
   "id": "31649d7d-f668-416f-9c01-442bc3f4acbd",
   "metadata": {},
   "source": [
    "## Python-Double Take"
   ]
  },
  {
   "cell_type": "code",
   "execution_count": 1,
   "id": "45a58f8a-7661-48a6-9274-d1f1ebba6ab1",
   "metadata": {},
   "outputs": [],
   "source": [
    "import numpy as np\n",
    "import matplotlib.pyplot as plt"
   ]
  },
  {
   "cell_type": "code",
   "execution_count": 2,
   "id": "b39adea0-ca8c-41ef-95e7-892b21d0bcad",
   "metadata": {},
   "outputs": [],
   "source": []
  }
 ],
 "metadata": {
  "kernelspec": {
   "display_name": "Python 3.13.1 (ds_practice)",
   "language": "python",
   "name": "ds_practice"
  },
  "language_info": {
   "codemirror_mode": {
    "name": "ipython",
    "version": 3
   },
   "file_extension": ".py",
   "mimetype": "text/x-python",
   "name": "python",
   "nbconvert_exporter": "python",
   "pygments_lexer": "ipython3",
   "version": "3.13.1"
  },
  "widgets": {
   "application/vnd.jupyter.widget-state+json": {
    "state": {},
    "version_major": 2,
    "version_minor": 0
   }
  }
 },
 "nbformat": 4,
 "nbformat_minor": 5
}
